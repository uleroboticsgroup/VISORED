{
 "cells": [
  {
   "cell_type": "code",
   "execution_count": 1,
   "id": "aea7e970",
   "metadata": {},
   "outputs": [],
   "source": [
    "import os\n",
    "import wget\n",
    "\n",
    "\n",
    "models = [\n",
    "    {\n",
    "        'name': 'yolov5l',\n",
    "        'cfg_folder': 'models/',\n",
    "        'url': 'https://github.com/ultralytics/yolov5/releases/download/v6.1/'\n",
    "    },\n",
    "    {\n",
    "        'name': 'yolov5m',\n",
    "        'cfg_folder': 'models/',\n",
    "        'url': 'https://github.com/ultralytics/yolov5/releases/download/v6.1/'\n",
    "    },\n",
    "    {\n",
    "        'name': 'yolov5n',\n",
    "        'cfg_folder': 'models/',\n",
    "        'url': 'https://github.com/ultralytics/yolov5/releases/download/v6.1/'\n",
    "    },\n",
    "    {\n",
    "        'name': 'yolov5s',\n",
    "        'cfg_folder': 'models/',\n",
    "        'url': 'https://github.com/ultralytics/yolov5/releases/download/v6.1/'\n",
    "    },\n",
    "    {\n",
    "        'name': 'yolov5x',\n",
    "        'cfg_folder': 'models/',\n",
    "        'url': 'https://github.com/ultralytics/yolov5/releases/download/v6.1/'\n",
    "    },\n",
    "    {\n",
    "        'name': 'yolov3',\n",
    "        'cfg_folder': 'models/hub/',\n",
    "        'url': 'https://github.com/ultralytics/yolov3/releases/download/v9.6.0/'\n",
    "    },\n",
    "    {\n",
    "        'name': 'yolov3-tiny',\n",
    "        'cfg_folder': 'models/hub/',\n",
    "        'url': 'https://github.com/ultralytics/yolov3/releases/download/v9.6.0/'\n",
    "    }\n",
    "]"
   ]
  },
  {
   "cell_type": "code",
   "execution_count": 2,
   "id": "9c69f61b",
   "metadata": {},
   "outputs": [
    {
     "name": "stdout",
     "output_type": "stream",
     "text": [
      "yolov5l\n",
      "python yolov5/train.py --img 640 --batch 4 --epochs 50 --data dataset.yaml --weights yolov5/models/yolov5l.pt --name yolov5l --cfg yolov5/models/yolov5l.yaml\n",
      "---\n",
      "yolov5m\n",
      "python yolov5/train.py --img 640 --batch 4 --epochs 50 --data dataset.yaml --weights yolov5/models/yolov5m.pt --name yolov5m --cfg yolov5/models/yolov5m.yaml\n",
      "---\n",
      "yolov5n\n",
      "python yolov5/train.py --img 640 --batch 4 --epochs 50 --data dataset.yaml --weights yolov5/models/yolov5n.pt --name yolov5n --cfg yolov5/models/yolov5n.yaml\n",
      "---\n",
      "yolov5s\n",
      "python yolov5/train.py --img 640 --batch 4 --epochs 50 --data dataset.yaml --weights yolov5/models/yolov5s.pt --name yolov5s --cfg yolov5/models/yolov5s.yaml\n",
      "---\n",
      "yolov5x\n",
      "python yolov5/train.py --img 640 --batch 4 --epochs 50 --data dataset.yaml --weights yolov5/models/yolov5x.pt --name yolov5x --cfg yolov5/models/yolov5x.yaml\n",
      "---\n",
      "yolov3\n",
      "python yolov5/train.py --img 640 --batch 4 --epochs 50 --data dataset.yaml --weights yolov5/models/yolov3.pt --name yolov3 --cfg yolov5/models/hub/yolov3.yaml\n",
      "---\n",
      "yolov3-tiny\n",
      "python yolov5/train.py --img 640 --batch 4 --epochs 50 --data dataset.yaml --weights yolov5/models/yolov3-tiny.pt --name yolov3-tiny --cfg yolov5/models/hub/yolov3-tiny.yaml\n",
      "---\n"
     ]
    }
   ],
   "source": [
    "for m in models:\n",
    "    print(m['name'])\n",
    "    if not os.path.exists('yolov5/models/'+m['name']+'.pt'):\n",
    "        wget.download(m['url']+m['name']+'.pt', out='yolov5/models')\n",
    "        \n",
    "    command = 'python yolov5/train.py --img 640 --batch 4 --epochs 50 --data dataset.yaml'\n",
    "    command += ' --weights yolov5/models/'+m['name']+'.pt --name '+m['name'] +' --cfg yolov5/'+m['cfg_folder']+m['name']+'.yaml'\n",
    "    print(command)\n",
    "    os.system(command)\n",
    "    print('---')"
   ]
  },
  {
   "cell_type": "code",
   "execution_count": null,
   "id": "0dab74d3",
   "metadata": {},
   "outputs": [],
   "source": []
  }
 ],
 "metadata": {
  "kernelspec": {
   "display_name": "env",
   "language": "python",
   "name": "env"
  },
  "language_info": {
   "codemirror_mode": {
    "name": "ipython",
    "version": 3
   },
   "file_extension": ".py",
   "mimetype": "text/x-python",
   "name": "python",
   "nbconvert_exporter": "python",
   "pygments_lexer": "ipython3",
   "version": "3.7.8"
  }
 },
 "nbformat": 4,
 "nbformat_minor": 5
}
