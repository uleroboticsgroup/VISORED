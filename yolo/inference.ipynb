{
 "cells": [
  {
   "cell_type": "code",
   "execution_count": 1,
   "id": "54d562d6",
   "metadata": {},
   "outputs": [],
   "source": [
    "import torch\n",
    "import os\n",
    "import pandas as pd\n",
    "import cv2\n",
    "import time\n",
    "import numpy as np"
   ]
  },
  {
   "cell_type": "code",
   "execution_count": 2,
   "id": "a7994f3f",
   "metadata": {},
   "outputs": [],
   "source": [
    "def reject_outliers(data, m = 2.):\n",
    "    d = np.abs(data - np.median(data))\n",
    "    mdev = np.median(d)\n",
    "    s = d/mdev if mdev else 0.\n",
    "    return data[s<m]"
   ]
  },
  {
   "cell_type": "code",
   "execution_count": 3,
   "id": "9ff097b9",
   "metadata": {},
   "outputs": [
    {
     "name": "stdout",
     "output_type": "stream",
     "text": [
      "yolov3\n"
     ]
    },
    {
     "name": "stderr",
     "output_type": "stream",
     "text": [
      "\u001b[31m\u001b[1mrequirements:\u001b[0m pandas>=1.1.4 not found and is required by YOLOv5, attempting auto-update...\n",
      "\u001b[31m\u001b[1mrequirements:\u001b[0m Command 'pip install 'pandas>=1.1.4' ' returned non-zero exit status 1.\n",
      "YOLOv5  v6.1-190-g4d59f65 Python-3.7.8 torch-1.8.1+cu102 CUDA:0 (NVIDIA GeForce RTX 2060, 6144MiB)\n",
      "\n",
      "Fusing layers... \n",
      "yolov3 summary: 261 layers, 61502815 parameters, 0 gradients\n",
      "Adding AutoShape... \n",
      "\u001b[31m\u001b[1mrequirements:\u001b[0m pandas>=1.1.4 not found and is required by YOLOv5, attempting auto-update...\n"
     ]
    },
    {
     "name": "stdout",
     "output_type": "stream",
     "text": [
      "Inference time(S):  0.031241768090299857\n",
      "FPS:  32.00843169661983\n",
      "\n",
      "yolov3-tiny\n"
     ]
    },
    {
     "name": "stderr",
     "output_type": "stream",
     "text": [
      "\u001b[31m\u001b[1mrequirements:\u001b[0m Command 'pip install 'pandas>=1.1.4' ' returned non-zero exit status 1.\n",
      "YOLOv5  v6.1-190-g4d59f65 Python-3.7.8 torch-1.8.1+cu102 CUDA:0 (NVIDIA GeForce RTX 2060, 6144MiB)\n",
      "\n",
      "Fusing layers... \n",
      "yolov3-tiny summary: 48 layers, 8669002 parameters, 0 gradients\n",
      "Adding AutoShape... \n",
      "\u001b[31m\u001b[1mrequirements:\u001b[0m pandas>=1.1.4 not found and is required by YOLOv5, attempting auto-update...\n"
     ]
    },
    {
     "name": "stdout",
     "output_type": "stream",
     "text": [
      "Inference time(S):  0.015621309930627996\n",
      "FPS:  64.01511809450405\n",
      "\n",
      "yolov5l\n"
     ]
    },
    {
     "name": "stderr",
     "output_type": "stream",
     "text": [
      "\u001b[31m\u001b[1mrequirements:\u001b[0m Command 'pip install 'pandas>=1.1.4' ' returned non-zero exit status 1.\n",
      "YOLOv5  v6.1-190-g4d59f65 Python-3.7.8 torch-1.8.1+cu102 CUDA:0 (NVIDIA GeForce RTX 2060, 6144MiB)\n",
      "\n",
      "Fusing layers... \n",
      "YOLOv5l summary: 367 layers, 46113663 parameters, 0 gradients\n",
      "Adding AutoShape... \n",
      "\u001b[31m\u001b[1mrequirements:\u001b[0m pandas>=1.1.4 not found and is required by YOLOv5, attempting auto-update...\n"
     ]
    },
    {
     "name": "stdout",
     "output_type": "stream",
     "text": [
      "Inference time(S):  0.031232757623805556\n",
      "FPS:  32.01766594051246\n",
      "\n",
      "yolov5m\n"
     ]
    },
    {
     "name": "stderr",
     "output_type": "stream",
     "text": [
      "\u001b[31m\u001b[1mrequirements:\u001b[0m Command 'pip install 'pandas>=1.1.4' ' returned non-zero exit status 1.\n",
      "YOLOv5  v6.1-190-g4d59f65 Python-3.7.8 torch-1.8.1+cu102 CUDA:0 (NVIDIA GeForce RTX 2060, 6144MiB)\n",
      "\n",
      "Fusing layers... \n",
      "YOLOv5m summary: 290 layers, 20856975 parameters, 0 gradients\n",
      "Adding AutoShape... \n",
      "\u001b[31m\u001b[1mrequirements:\u001b[0m pandas>=1.1.4 not found and is required by YOLOv5, attempting auto-update...\n"
     ]
    },
    {
     "name": "stdout",
     "output_type": "stream",
     "text": [
      "Inference time(S):  0.015621531278567207\n",
      "FPS:  64.01421103781314\n",
      "\n",
      "yolov5n\n"
     ]
    },
    {
     "name": "stderr",
     "output_type": "stream",
     "text": [
      "\u001b[31m\u001b[1mrequirements:\u001b[0m Command 'pip install 'pandas>=1.1.4' ' returned non-zero exit status 1.\n",
      "YOLOv5  v6.1-190-g4d59f65 Python-3.7.8 torch-1.8.1+cu102 CUDA:0 (NVIDIA GeForce RTX 2060, 6144MiB)\n",
      "\n",
      "Fusing layers... \n",
      "YOLOv5n summary: 213 layers, 1761871 parameters, 0 gradients\n",
      "Adding AutoShape... \n",
      "\u001b[31m\u001b[1mrequirements:\u001b[0m pandas>=1.1.4 not found and is required by YOLOv5, attempting auto-update...\n"
     ]
    },
    {
     "name": "stdout",
     "output_type": "stream",
     "text": [
      "Inference time(S):  0.015621569007635117\n",
      "FPS:  64.0140564312871\n",
      "\n",
      "yolov5s\n"
     ]
    },
    {
     "name": "stderr",
     "output_type": "stream",
     "text": [
      "\u001b[31m\u001b[1mrequirements:\u001b[0m Command 'pip install 'pandas>=1.1.4' ' returned non-zero exit status 1.\n",
      "YOLOv5  v6.1-190-g4d59f65 Python-3.7.8 torch-1.8.1+cu102 CUDA:0 (NVIDIA GeForce RTX 2060, 6144MiB)\n",
      "\n",
      "Fusing layers... \n",
      "YOLOv5s summary: 213 layers, 7015519 parameters, 0 gradients\n",
      "Adding AutoShape... \n",
      "\u001b[31m\u001b[1mrequirements:\u001b[0m pandas>=1.1.4 not found and is required by YOLOv5, attempting auto-update...\n"
     ]
    },
    {
     "name": "stdout",
     "output_type": "stream",
     "text": [
      "Inference time(S):  0.015620924705682798\n",
      "FPS:  64.01669676035286\n",
      "\n",
      "yolov5x\n"
     ]
    },
    {
     "name": "stderr",
     "output_type": "stream",
     "text": [
      "\u001b[31m\u001b[1mrequirements:\u001b[0m Command 'pip install 'pandas>=1.1.4' ' returned non-zero exit status 1.\n",
      "YOLOv5  v6.1-190-g4d59f65 Python-3.7.8 torch-1.8.1+cu102 CUDA:0 (NVIDIA GeForce RTX 2060, 6144MiB)\n",
      "\n",
      "Fusing layers... \n",
      "YOLOv5x summary: 444 layers, 86180143 parameters, 0 gradients\n",
      "Adding AutoShape... \n"
     ]
    },
    {
     "name": "stdout",
     "output_type": "stream",
     "text": [
      "Inference time(S):  0.046859096258114546\n",
      "FPS:  21.340573759504185\n",
      "\n"
     ]
    }
   ],
   "source": [
    "images = os.listdir('datasets/dataset/images/val2017')\n",
    "columns = [\n",
    "    'model', 'mAP', 'inference', 'FPS'\n",
    "]\n",
    "data = pd.DataFrame(columns = columns)\n",
    "for folder in os.listdir('yolov5/runs/train'):\n",
    "    print(folder)\n",
    "    weights = 'yolov5/runs/train/'+folder+'/weights/last.pt'\n",
    "    model = torch.hub.load('yolov5/', 'custom', weights, source='local')\n",
    "    \n",
    "    times = []\n",
    "    for f in images:\n",
    "        img = cv2.imread('datasets/dataset/images/val2017/'+f)\n",
    "        init = time.time()\n",
    "        p = model(img)\n",
    "        end = time.time()\n",
    "        times.append(end-init) \n",
    "    \n",
    "    times_without_outliers = reject_outliers(np.array(times))\n",
    "    print('Inference time(S): ', times_without_outliers.mean())\n",
    "    print('FPS: ', (1/times_without_outliers.mean()))\n",
    "    print()\n",
    "    \n",
    "    results = pd.read_csv('yolov5/runs/train/'+folder+'/results.csv')\n",
    "    row = [{\n",
    "        'model': folder,\n",
    "        'mAP': results.iloc[49].values[6],\n",
    "        'inference': times_without_outliers.mean(),\n",
    "        'FPS': (1/times_without_outliers.mean())\n",
    "    }]\n",
    "    df = pd.DataFrame(row)\n",
    "    data = pd.concat([data, df])\n",
    "data.to_csv('results.csv', index=False)"
   ]
  },
  {
   "cell_type": "code",
   "execution_count": null,
   "id": "500160ee",
   "metadata": {},
   "outputs": [],
   "source": []
  }
 ],
 "metadata": {
  "kernelspec": {
   "display_name": "env",
   "language": "python",
   "name": "env"
  },
  "language_info": {
   "codemirror_mode": {
    "name": "ipython",
    "version": 3
   },
   "file_extension": ".py",
   "mimetype": "text/x-python",
   "name": "python",
   "nbconvert_exporter": "python",
   "pygments_lexer": "ipython3",
   "version": "3.7.8"
  }
 },
 "nbformat": 4,
 "nbformat_minor": 5
}
