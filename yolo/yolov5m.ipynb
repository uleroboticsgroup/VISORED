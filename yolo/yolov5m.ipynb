{
 "cells": [
  {
   "cell_type": "code",
   "execution_count": 1,
   "id": "2cb9516d",
   "metadata": {},
   "outputs": [],
   "source": [
    "import torch\n",
    "import matplotlib.pyplot as plt\n",
    "import os\n",
    "import cv2\n",
    "import matplotlib.lines as lines\n",
    "import pandas as pd\n",
    "import time\n",
    "import numpy as np\n",
    "import sys\n",
    "from shapely.geometry import Polygon\n",
    "import seaborn as sns\n",
    "%matplotlib inline"
   ]
  },
  {
   "cell_type": "code",
   "execution_count": 2,
   "id": "ed5a85d9",
   "metadata": {},
   "outputs": [
    {
     "name": "stderr",
     "output_type": "stream",
     "text": [
      "\u001b[31m\u001b[1mrequirements:\u001b[0m pandas>=1.1.4 not found and is required by YOLOv5, attempting auto-update...\n",
      "\u001b[31m\u001b[1mrequirements:\u001b[0m Command 'pip install 'pandas>=1.1.4' ' returned non-zero exit status 1.\n",
      "YOLOv5  v6.1-190-g4d59f65 Python-3.7.8 torch-1.8.1+cu102 CUDA:0 (NVIDIA GeForce RTX 2060, 6144MiB)\n",
      "\n",
      "Fusing layers... \n",
      "YOLOv5m summary: 290 layers, 20856975 parameters, 0 gradients\n",
      "Adding AutoShape... \n"
     ]
    }
   ],
   "source": [
    "weights = 'yolov5/runs/train/yolov5m/weights/last.pt'\n",
    "model = torch.hub.load('yolov5/', 'custom', weights, source='local')"
   ]
  },
  {
   "cell_type": "markdown",
   "id": "9a3a1347",
   "metadata": {},
   "source": [
    "# Model detections"
   ]
  },
  {
   "cell_type": "code",
   "execution_count": 3,
   "id": "b501a30a",
   "metadata": {},
   "outputs": [
    {
     "name": "stderr",
     "output_type": "stream",
     "text": [
      "C:\\Users\\virgi\\AppData\\Local\\Programs\\Python\\Python37\\lib\\site-packages\\ipykernel_launcher.py:48: UserWarning: Matplotlib is currently using agg, which is a non-GUI backend, so cannot show the figure.\n"
     ]
    }
   ],
   "source": [
    "fig, ax = plt.subplots(2,4, figsize=(16,8))\n",
    "classes = model.names\n",
    "colors = [(255,0,0), (0,0,255)]\n",
    "scaleFont = 2\n",
    "bbox_width = 6\n",
    "\n",
    "for region, r, r_i in zip(['europe', 'world'], ['Europe', 'Outside Europe'], range(2)):\n",
    "    for animal, a, a_i in zip(['dog', 'wolf'], ['Dog', 'Wolf'], range(2)):\n",
    "        images = os.listdir('images/'+region+'_'+animal+'/')\n",
    "        \n",
    "        img = cv2.imread('images/'+region+'_'+animal+'/'+images[0])\n",
    "        img = cv2.cvtColor(img, cv2.COLOR_BGR2RGB)        \n",
    "        p = model(img)\n",
    "        for i in range(len(p.tolist()[0].pred[0])):\n",
    "            bbox = p.tolist()[0].pred[0][i][0:4].data.cpu().numpy().astype(np.int32)\n",
    "            prob = p.tolist()[0].pred[0][i][4:6].data.cpu().numpy()\n",
    "            class_id = np.argmax(prob, axis=0)\n",
    "            if prob[class_id]>0.7:\n",
    "                img =cv2.rectangle(img, (bbox[0], bbox[1]), (bbox[2], bbox[3]), colors[class_id], bbox_width)\n",
    "                label = classes[class_id] +\" \"+\"{:.2f}\".format(prob[class_id])\n",
    "                (w, h), _ = cv2.getTextSize(label, cv2.FONT_HERSHEY_TRIPLEX , scaleFont, 2)   \n",
    "                img = cv2.rectangle(img, (bbox[0]-int(bbox_width/2), bbox[1] - h-10), (bbox[0]+w+bbox_width, bbox[1]), colors[class_id], -1)\n",
    "                img = cv2.putText(img, label, (bbox[0], bbox[1] - 5),cv2.FONT_HERSHEY_TRIPLEX , scaleFont, (255,255,255), 2)\n",
    "        \n",
    "        ax[(a_i)][r_i*2].imshow(img)\n",
    "        ax[(a_i)][r_i*2].axis('off')\n",
    "        \n",
    "        img = cv2.imread('images/'+region+'_'+animal+'/'+images[1])\n",
    "        img = cv2.cvtColor(img, cv2.COLOR_BGR2RGB)        \n",
    "        p = model(img)\n",
    "        for i in range(len(p.tolist()[0].pred[0])):\n",
    "            bbox = p.tolist()[0].pred[0][i][0:4].data.cpu().numpy().astype(np.int32)\n",
    "            prob = p.tolist()[0].pred[0][i][4:6].data.cpu().numpy()\n",
    "            class_id = np.argmax(prob, axis=0)\n",
    "            if prob[class_id]>0.7:\n",
    "                img =cv2.rectangle(img, (bbox[0], bbox[1]), (bbox[2], bbox[3]), colors[class_id], bbox_width)\n",
    "                label = classes[class_id] +\" \"+\"{:.2f}\".format(prob[class_id])\n",
    "                (w, h), _ = cv2.getTextSize(label, cv2.FONT_HERSHEY_TRIPLEX , scaleFont, 2)   \n",
    "                img = cv2.rectangle(img, (bbox[0]-int(bbox_width/2), bbox[1] - h-10), (bbox[0]+w+bbox_width, bbox[1]), colors[class_id], -1)\n",
    "                img = cv2.putText(img, label, (bbox[0], bbox[1] - 5),cv2.FONT_HERSHEY_TRIPLEX , scaleFont, (255,255,255), 2)\n",
    "        \n",
    "        ax[(a_i)][(r_i*2)+1].imshow(p.tolist()[0].imgs[0])\n",
    "        ax[(a_i)][(r_i*2)+1].axis('off')\n",
    "        \n",
    "\n",
    "plt.tight_layout() \n",
    "plt.savefig('img_detections.png', bbox_inches='tight', dpi=600)\n",
    "plt.show()"
   ]
  },
  {
   "cell_type": "markdown",
   "id": "f6874e4c",
   "metadata": {},
   "source": [
    "# Model results"
   ]
  },
  {
   "cell_type": "code",
   "execution_count": 4,
   "id": "afd502a8",
   "metadata": {},
   "outputs": [
    {
     "data": {
      "text/html": [
       "<div>\n",
       "<style scoped>\n",
       "    .dataframe tbody tr th:only-of-type {\n",
       "        vertical-align: middle;\n",
       "    }\n",
       "\n",
       "    .dataframe tbody tr th {\n",
       "        vertical-align: top;\n",
       "    }\n",
       "\n",
       "    .dataframe thead th {\n",
       "        text-align: right;\n",
       "    }\n",
       "</style>\n",
       "<table border=\"1\" class=\"dataframe\">\n",
       "  <thead>\n",
       "    <tr style=\"text-align: right;\">\n",
       "      <th></th>\n",
       "      <th>epoch</th>\n",
       "      <th>train/box_loss</th>\n",
       "      <th>train/obj_loss</th>\n",
       "      <th>train/cls_loss</th>\n",
       "      <th>metrics/precision</th>\n",
       "      <th>...</th>\n",
       "      <th>val/obj_loss</th>\n",
       "      <th>val/cls_loss</th>\n",
       "      <th>x/lr0</th>\n",
       "      <th>x/lr1</th>\n",
       "      <th>x/lr2</th>\n",
       "    </tr>\n",
       "  </thead>\n",
       "  <tbody>\n",
       "    <tr>\n",
       "      <th>0</th>\n",
       "      <td>0</td>\n",
       "      <td>0.081556</td>\n",
       "      <td>0.030069</td>\n",
       "      <td>0.025584</td>\n",
       "      <td>0.22817</td>\n",
       "      <td>...</td>\n",
       "      <td>0.017370</td>\n",
       "      <td>0.018699</td>\n",
       "      <td>0.003314</td>\n",
       "      <td>0.003314</td>\n",
       "      <td>0.070174</td>\n",
       "    </tr>\n",
       "    <tr>\n",
       "      <th>1</th>\n",
       "      <td>1</td>\n",
       "      <td>0.062958</td>\n",
       "      <td>0.021209</td>\n",
       "      <td>0.019502</td>\n",
       "      <td>0.35055</td>\n",
       "      <td>...</td>\n",
       "      <td>0.011162</td>\n",
       "      <td>0.015543</td>\n",
       "      <td>0.006516</td>\n",
       "      <td>0.006516</td>\n",
       "      <td>0.040043</td>\n",
       "    </tr>\n",
       "    <tr>\n",
       "      <th>2</th>\n",
       "      <td>2</td>\n",
       "      <td>0.059621</td>\n",
       "      <td>0.018070</td>\n",
       "      <td>0.015664</td>\n",
       "      <td>0.42735</td>\n",
       "      <td>...</td>\n",
       "      <td>0.011307</td>\n",
       "      <td>0.014821</td>\n",
       "      <td>0.009585</td>\n",
       "      <td>0.009585</td>\n",
       "      <td>0.009779</td>\n",
       "    </tr>\n",
       "    <tr>\n",
       "      <th>3</th>\n",
       "      <td>3</td>\n",
       "      <td>0.052795</td>\n",
       "      <td>0.017665</td>\n",
       "      <td>0.015351</td>\n",
       "      <td>0.52542</td>\n",
       "      <td>...</td>\n",
       "      <td>0.009760</td>\n",
       "      <td>0.010179</td>\n",
       "      <td>0.009406</td>\n",
       "      <td>0.009406</td>\n",
       "      <td>0.009406</td>\n",
       "    </tr>\n",
       "    <tr>\n",
       "      <th>4</th>\n",
       "      <td>4</td>\n",
       "      <td>0.046919</td>\n",
       "      <td>0.016685</td>\n",
       "      <td>0.012645</td>\n",
       "      <td>0.62448</td>\n",
       "      <td>...</td>\n",
       "      <td>0.009492</td>\n",
       "      <td>0.008518</td>\n",
       "      <td>0.009406</td>\n",
       "      <td>0.009406</td>\n",
       "      <td>0.009406</td>\n",
       "    </tr>\n",
       "  </tbody>\n",
       "</table>\n",
       "<p>5 rows × 14 columns</p>\n",
       "</div>"
      ],
      "text/plain": [
       "                  epoch        train/box_loss        train/obj_loss  \\\n",
       "0                     0              0.081556              0.030069   \n",
       "1                     1              0.062958              0.021209   \n",
       "2                     2              0.059621              0.018070   \n",
       "3                     3              0.052795              0.017665   \n",
       "4                     4              0.046919              0.016685   \n",
       "\n",
       "         train/cls_loss     metrics/precision  ...          val/obj_loss  \\\n",
       "0              0.025584               0.22817  ...              0.017370   \n",
       "1              0.019502               0.35055  ...              0.011162   \n",
       "2              0.015664               0.42735  ...              0.011307   \n",
       "3              0.015351               0.52542  ...              0.009760   \n",
       "4              0.012645               0.62448  ...              0.009492   \n",
       "\n",
       "           val/cls_loss                 x/lr0                 x/lr1  \\\n",
       "0              0.018699              0.003314              0.003314   \n",
       "1              0.015543              0.006516              0.006516   \n",
       "2              0.014821              0.009585              0.009585   \n",
       "3              0.010179              0.009406              0.009406   \n",
       "4              0.008518              0.009406              0.009406   \n",
       "\n",
       "                  x/lr2  \n",
       "0              0.070174  \n",
       "1              0.040043  \n",
       "2              0.009779  \n",
       "3              0.009406  \n",
       "4              0.009406  \n",
       "\n",
       "[5 rows x 14 columns]"
      ]
     },
     "execution_count": 4,
     "metadata": {},
     "output_type": "execute_result"
    }
   ],
   "source": [
    "results = pd.read_csv('yolov5/runs/train/yolov5m/results.csv')\n",
    "results.head()"
   ]
  },
  {
   "cell_type": "code",
   "execution_count": 5,
   "id": "1df23248",
   "metadata": {},
   "outputs": [
    {
     "data": {
      "text/plain": [
       "Index(['               epoch', '      train/box_loss', '      train/obj_loss',\n",
       "       '      train/cls_loss', '   metrics/precision', '      metrics/recall',\n",
       "       '     metrics/mAP_0.5', 'metrics/mAP_0.5:0.95', '        val/box_loss',\n",
       "       '        val/obj_loss', '        val/cls_loss', '               x/lr0',\n",
       "       '               x/lr1', '               x/lr2'],\n",
       "      dtype='object')"
      ]
     },
     "execution_count": 5,
     "metadata": {},
     "output_type": "execute_result"
    }
   ],
   "source": [
    "results.columns"
   ]
  },
  {
   "cell_type": "code",
   "execution_count": 6,
   "id": "0f53dfa3",
   "metadata": {},
   "outputs": [
    {
     "name": "stderr",
     "output_type": "stream",
     "text": [
      "C:\\Users\\virgi\\AppData\\Local\\Programs\\Python\\Python37\\lib\\site-packages\\ipykernel_launcher.py:19: UserWarning: Matplotlib is currently using agg, which is a non-GUI backend, so cannot show the figure.\n"
     ]
    }
   ],
   "source": [
    "plt.rcParams.update({'font.size': 16})\n",
    "fig, ax = plt.subplots(1,3, figsize=(16,4), sharey='row')\n",
    "\n",
    "ax[0].plot(results['               epoch'], results['      train/box_loss'], label='Train')\n",
    "ax[0].plot(results['               epoch'], results['        val/box_loss'], label='Test')\n",
    "ax[0].title.set_text('Bounding Box Loss')\n",
    "\n",
    "ax[1].plot(results['               epoch'], results['      train/obj_loss'], label='Train')\n",
    "ax[1].plot(results['               epoch'], results['        val/obj_loss'], label='Test')\n",
    "ax[1].title.set_text('Object Loss')\n",
    "\n",
    "ax[2].plot(results['               epoch'], results['      train/cls_loss'], label='Train')\n",
    "ax[2].plot(results['               epoch'], results['        val/cls_loss'], label='Test')\n",
    "ax[2].title.set_text('Classification Loss')\n",
    "\n",
    "plt.legend()\n",
    "plt.tight_layout()\n",
    "plt.savefig('img_yolov5m_loss.png', bbox_inches='tight', dpi=600)\n",
    "plt.show()"
   ]
  },
  {
   "cell_type": "code",
   "execution_count": 7,
   "id": "9a18b454",
   "metadata": {},
   "outputs": [
    {
     "name": "stderr",
     "output_type": "stream",
     "text": [
      "C:\\Users\\virgi\\AppData\\Local\\Programs\\Python\\Python37\\lib\\site-packages\\ipykernel_launcher.py:22: UserWarning: Matplotlib is currently using agg, which is a non-GUI backend, so cannot show the figure.\n"
     ]
    }
   ],
   "source": [
    "plt.rcParams.update({'font.size': 16})\n",
    "fig, ax = plt.subplots(1,4, figsize=(16,4))\n",
    "\n",
    "ax[0].plot(results['               epoch'], results['   metrics/precision'])\n",
    "ax[0].title.set_text('Precision')\n",
    "ax[0].set_xticks([0,10,20,30,40,50])\n",
    "\n",
    "ax[1].plot(results['               epoch'], results['      metrics/recall'])\n",
    "ax[1].title.set_text('Recall')\n",
    "ax[1].set_xticks([0,10,20,30,40,50])\n",
    "\n",
    "ax[2].plot(results['               epoch'], results['     metrics/mAP_0.5'])\n",
    "ax[2].title.set_text('mAP (PASCAL VOC)')\n",
    "ax[2].set_xticks([0,10,20,30,40,50])\n",
    "\n",
    "ax[3].plot(results['               epoch'], results['metrics/mAP_0.5:0.95'])\n",
    "ax[3].title.set_text('mAP (COCO)')\n",
    "ax[3].set_xticks([0,10,20,30,40,50])\n",
    "\n",
    "plt.tight_layout()\n",
    "plt.savefig('img_yolov5m_metrics.png', bbox_inches='tight', dpi=600)\n",
    "plt.show()"
   ]
  },
  {
   "cell_type": "markdown",
   "id": "45707e85",
   "metadata": {},
   "source": [
    "# Confusion matrix"
   ]
  },
  {
   "cell_type": "code",
   "execution_count": 8,
   "id": "fef8b7a9",
   "metadata": {},
   "outputs": [],
   "source": [
    "def calculate_iou(box_1, box_2):\n",
    "    poly_1 = Polygon(box_1)\n",
    "    poly_2 = Polygon(box_2)\n",
    "    iou = poly_1.intersection(poly_2).area / poly_1.union(poly_2).area\n",
    "    return iou"
   ]
  },
  {
   "cell_type": "code",
   "execution_count": 9,
   "id": "ad46355d",
   "metadata": {},
   "outputs": [],
   "source": [
    "def confusion_matrix(matrix, df, bbox_pred, img_name):\n",
    "    for row_id, row in df.iterrows():        \n",
    "        class_id = int(df.iloc[row_id][0])\n",
    "        box_2 = [\n",
    "        [df.iloc[row_id][1] - (df.iloc[row_id][3]/2), df.iloc[row_id][2] - (df.iloc[row_id][4]/2)], \n",
    "        [df.iloc[row_id][1] + (df.iloc[row_id][3]/2), df.iloc[row_id][2] - (df.iloc[row_id][4]/2)], \n",
    "        [df.iloc[row_id][1] + (df.iloc[row_id][3]/2), df.iloc[row_id][2] + (df.iloc[row_id][4]/2)], \n",
    "        [df.iloc[row_id][1] - (df.iloc[row_id][3]/2), df.iloc[row_id][2] + (df.iloc[row_id][4]/2)]]\n",
    "        used = False\n",
    "\n",
    "        bigger_iou = 0\n",
    "        bigger_index = 0\n",
    "        bigger_class = 0\n",
    "        for row_id, info in bbox_pred.items():\n",
    "            if not info['used']:\n",
    "                box_class = info['class']\n",
    "                iou = calculate_iou(info['bbox'], box_2)\n",
    "                if iou>bigger_iou:\n",
    "                    bigger_iou = iou\n",
    "                    bigger_index = row_id\n",
    "                    bigger_class = box_class\n",
    "        if bigger_iou>=0.5:\n",
    "            matrix[bigger_class][class_id] += 1\n",
    "            bbox_pred[bigger_index]['used'] = True\n",
    "            used = True\n",
    "        elif bigger_iou > 0:\n",
    "            matrix[2][class_id] += 1\n",
    "            bbox_pred[bigger_index]['used'] = True\n",
    "            used = True\n",
    "        if not used:\n",
    "            matrix[2][class_id] += 1\n",
    "\n",
    "    for row_id, info in bbox_pred.items():\n",
    "        if not info['used']:\n",
    "            box_class = info['class']\n",
    "            matrix[box_class][2] += 1\n",
    "            bbox_pred[row_id]['used'] = True\n",
    "    return matrix"
   ]
  },
  {
   "cell_type": "code",
   "execution_count": 10,
   "id": "213ab97d",
   "metadata": {},
   "outputs": [
    {
     "data": {
      "text/plain": [
       "array([[        594,           0,          14],\n",
       "       [          0,         276,          15],\n",
       "       [          0,           1,           0]])"
      ]
     },
     "execution_count": 10,
     "metadata": {},
     "output_type": "execute_result"
    }
   ],
   "source": [
    "train_matrix = np.zeros((3,3)) #row, column\n",
    "for img_name in os.listdir('datasets/dataset/images/train2017'):\n",
    "    img = cv2.imread('datasets/dataset/images/train2017/'+img_name)\n",
    "    img = cv2.cvtColor(img, cv2.COLOR_BGR2RGB)        \n",
    "    p = model(img)\n",
    "    row_count = 0\n",
    "    bbox_pred = {}\n",
    "    for i in range(len(p.tolist()[0].pred[0])):\n",
    "        bbox = p.tolist()[0].xyxyn[0].data.cpu().numpy().astype(np.float32)[i][0:4]        \n",
    "        prob = p.tolist()[0].pred[0][i][4:6].data.cpu().numpy()\n",
    "        class_id = np.argmax(prob, axis=0)       \n",
    "        \n",
    "        if prob[class_id]>0.5:\n",
    "            box_1 = [[bbox[0], bbox[1]], [bbox[2], bbox[1]], [bbox[2], bbox[3]], [bbox[0], bbox[3]]]\n",
    "            bbox_pred[str(row_count)] = {'used': False, 'class':class_id, 'bbox':box_1}\n",
    "            row_count += 1\n",
    "    df = pd.read_csv('datasets/dataset/labels/train2017/'+img_name[:-3]+'txt', sep=' ', header=None)\n",
    "    df.head()\n",
    "    train_matrix =  confusion_matrix(train_matrix, df, bbox_pred, img_name)\n",
    "train_matrix"
   ]
  },
  {
   "cell_type": "code",
   "execution_count": 11,
   "id": "cee08473",
   "metadata": {},
   "outputs": [
    {
     "data": {
      "text/plain": [
       "array([[        158,           5,           8],\n",
       "       [          4,          72,          14],\n",
       "       [         21,           6,           0]])"
      ]
     },
     "execution_count": 11,
     "metadata": {},
     "output_type": "execute_result"
    }
   ],
   "source": [
    "val_matrix = np.zeros((3,3)) #row, column\n",
    "for img_name in os.listdir('datasets/dataset/images/val2017'):\n",
    "    img = cv2.imread('datasets/dataset/images/val2017/'+img_name)\n",
    "    img = cv2.cvtColor(img, cv2.COLOR_BGR2RGB)        \n",
    "    p = model(img)\n",
    "    row_count = 0\n",
    "    bbox_pred = {}\n",
    "    for i in range(len(p.tolist()[0].pred[0])):\n",
    "        bbox = p.tolist()[0].xyxyn[0].data.cpu().numpy().astype(np.float32)[i][0:4]        \n",
    "        prob = p.tolist()[0].pred[0][i][4:6].data.cpu().numpy()\n",
    "        class_id = np.argmax(prob, axis=0)       \n",
    "        \n",
    "        if prob[class_id]>0.5:\n",
    "            box_1 = [[bbox[0], bbox[1]], [bbox[2], bbox[1]], [bbox[2], bbox[3]], [bbox[0], bbox[3]]]\n",
    "            bbox_pred[str(row_count)] = {'used': False, 'class':class_id, 'bbox':box_1}\n",
    "            row_count += 1\n",
    "    df = pd.read_csv('datasets/dataset/labels/val2017/'+img_name[:-3]+'txt', sep=' ', header=None)\n",
    "    df.head()\n",
    "    val_matrix =  confusion_matrix(val_matrix, df, bbox_pred, img_name)\n",
    "val_matrix"
   ]
  },
  {
   "cell_type": "code",
   "execution_count": 12,
   "id": "224c5e92",
   "metadata": {},
   "outputs": [],
   "source": [
    "#train_matrix[train_matrix == 0] = np.nan\n",
    "#val_matrix[val_matrix == 0] = np.nan"
   ]
  },
  {
   "cell_type": "code",
   "execution_count": 13,
   "id": "e968c93e",
   "metadata": {},
   "outputs": [
    {
     "name": "stderr",
     "output_type": "stream",
     "text": [
      "C:\\Users\\virgi\\AppData\\Local\\Programs\\Python\\Python37\\lib\\site-packages\\ipykernel_launcher.py:17: UserWarning: Matplotlib is currently using agg, which is a non-GUI backend, so cannot show the figure.\n"
     ]
    }
   ],
   "source": [
    "fig, ax = plt.subplots(1,2, figsize=(16,6))\n",
    "plt.rcParams.update({'font.size': 16})\n",
    "\n",
    "sns.heatmap(train_matrix, xticklabels= ['Wolf', 'Dog', 'BG'], yticklabels= ['Wolf', 'Dog', 'BG'], annot=True, fmt='g', cmap='rocket_r', ax=ax[0], linewidths=2)\n",
    "\n",
    "sns.heatmap(val_matrix, xticklabels= ['Wolf', 'Dog', 'BG'], yticklabels= ['Wolf', 'Dog', 'BG'], annot=True, fmt='g', cmap='rocket_r', ax=ax[1], linewidths=2)\n",
    "\n",
    "ax[0].title.set_text('Train')\n",
    "ax[1].title.set_text('Validation')\n",
    "ax[0].set_xlabel('Real')\n",
    "ax[0].set_ylabel('Predicted')\n",
    "ax[1].set_xlabel('Real')\n",
    "ax[1].set_ylabel('Predicted')\n",
    "\n",
    "plt.tight_layout()\n",
    "plt.savefig('img_yolov5m_matrix.png', bbox_inches='tight', dpi=600)\n",
    "plt.show()"
   ]
  },
  {
   "cell_type": "code",
   "execution_count": null,
   "id": "8a5d21f5",
   "metadata": {},
   "outputs": [],
   "source": []
  }
 ],
 "metadata": {
  "kernelspec": {
   "display_name": "env",
   "language": "python",
   "name": "env"
  },
  "language_info": {
   "codemirror_mode": {
    "name": "ipython",
    "version": 3
   },
   "file_extension": ".py",
   "mimetype": "text/x-python",
   "name": "python",
   "nbconvert_exporter": "python",
   "pygments_lexer": "ipython3",
   "version": "3.7.8"
  }
 },
 "nbformat": 4,
 "nbformat_minor": 5
}
