{
 "cells": [
  {
   "cell_type": "code",
   "execution_count": 1,
   "id": "61cfeb53",
   "metadata": {},
   "outputs": [],
   "source": [
    "import os\n",
    "import pandas as pd\n",
    "import matplotlib.pyplot as plt"
   ]
  },
  {
   "cell_type": "code",
   "execution_count": 2,
   "id": "c6f09e1a",
   "metadata": {},
   "outputs": [],
   "source": [
    "epochs = 160\n",
    "\n",
    "lines = []\n",
    "files = [\n",
    "    'trained_models/SSD300/train/MAP_Evaluation_Log.txt',\n",
    "    'trained_models/SSD300/test/MAP_Evaluation_Log.txt'\n",
    "]\n",
    "\n",
    "for f in files:\n",
    "    file = open(f) \n",
    "    l_file = file.readlines()\n",
    "    l_file = [line.rstrip() for line in l_file]\n",
    "    file.close()\n",
    "    lines.append(l_file)"
   ]
  },
  {
   "cell_type": "code",
   "execution_count": 3,
   "id": "8ec9c5e8",
   "metadata": {},
   "outputs": [],
   "source": [
    "columns = [\n",
    "    'epoch', 'mAP', 'wolf', 'dog', 'val_mAP', 'val_wolf', 'val_dog'\n",
    "]\n",
    "results = pd.DataFrame(columns = columns)\n",
    "for i in range(epochs):\n",
    "    data = [{\n",
    "        'epoch': int(lines[0][i*5].split(':')[1]) +1,\n",
    "        'mAP': float(lines[0][(i*5)+1].split(':')[1]),\n",
    "        'wolf': float(lines[0][(i*5)+2].split(':')[1]),\n",
    "        'dog': float(lines[0][(i*5)+3].split(':')[1]),\n",
    "        'val_mAP': float(lines[1][(i*5)+1].split(':')[1]),\n",
    "        'val_wolf': float(lines[1][(i*5)+2].split(':')[1]),\n",
    "        'val_dog': float(lines[1][(i*5)+3].split(':')[1])\n",
    "    }]\n",
    "    df = pd.DataFrame(data)\n",
    "    results = pd.concat([results, df])\n",
    "results.to_csv('../results.csv', index=False)"
   ]
  },
  {
   "cell_type": "code",
   "execution_count": 4,
   "id": "2258c522",
   "metadata": {},
   "outputs": [
    {
     "data": {
      "text/html": [
       "<div>\n",
       "<style scoped>\n",
       "    .dataframe tbody tr th:only-of-type {\n",
       "        vertical-align: middle;\n",
       "    }\n",
       "\n",
       "    .dataframe tbody tr th {\n",
       "        vertical-align: top;\n",
       "    }\n",
       "\n",
       "    .dataframe thead th {\n",
       "        text-align: right;\n",
       "    }\n",
       "</style>\n",
       "<table border=\"1\" class=\"dataframe\">\n",
       "  <thead>\n",
       "    <tr style=\"text-align: right;\">\n",
       "      <th></th>\n",
       "      <th>epoch</th>\n",
       "      <th>mAP</th>\n",
       "      <th>wolf</th>\n",
       "      <th>dog</th>\n",
       "      <th>val_mAP</th>\n",
       "      <th>val_wolf</th>\n",
       "      <th>val_dog</th>\n",
       "    </tr>\n",
       "  </thead>\n",
       "  <tbody>\n",
       "    <tr>\n",
       "      <th>150</th>\n",
       "      <td>151</td>\n",
       "      <td>0.8930</td>\n",
       "      <td>0.8776</td>\n",
       "      <td>0.9084</td>\n",
       "      <td>0.8344</td>\n",
       "      <td>0.7998</td>\n",
       "      <td>0.8690</td>\n",
       "    </tr>\n",
       "    <tr>\n",
       "      <th>151</th>\n",
       "      <td>152</td>\n",
       "      <td>0.8929</td>\n",
       "      <td>0.8773</td>\n",
       "      <td>0.9084</td>\n",
       "      <td>0.8349</td>\n",
       "      <td>0.8005</td>\n",
       "      <td>0.8692</td>\n",
       "    </tr>\n",
       "    <tr>\n",
       "      <th>152</th>\n",
       "      <td>153</td>\n",
       "      <td>0.8935</td>\n",
       "      <td>0.8782</td>\n",
       "      <td>0.9087</td>\n",
       "      <td>0.8342</td>\n",
       "      <td>0.8010</td>\n",
       "      <td>0.8674</td>\n",
       "    </tr>\n",
       "    <tr>\n",
       "      <th>153</th>\n",
       "      <td>154</td>\n",
       "      <td>0.8941</td>\n",
       "      <td>0.8794</td>\n",
       "      <td>0.9087</td>\n",
       "      <td>0.8347</td>\n",
       "      <td>0.8011</td>\n",
       "      <td>0.8683</td>\n",
       "    </tr>\n",
       "    <tr>\n",
       "      <th>154</th>\n",
       "      <td>155</td>\n",
       "      <td>0.8942</td>\n",
       "      <td>0.8797</td>\n",
       "      <td>0.9087</td>\n",
       "      <td>0.8350</td>\n",
       "      <td>0.8017</td>\n",
       "      <td>0.8683</td>\n",
       "    </tr>\n",
       "    <tr>\n",
       "      <th>155</th>\n",
       "      <td>156</td>\n",
       "      <td>0.8934</td>\n",
       "      <td>0.8781</td>\n",
       "      <td>0.9087</td>\n",
       "      <td>0.8350</td>\n",
       "      <td>0.8017</td>\n",
       "      <td>0.8683</td>\n",
       "    </tr>\n",
       "    <tr>\n",
       "      <th>156</th>\n",
       "      <td>157</td>\n",
       "      <td>0.8943</td>\n",
       "      <td>0.8799</td>\n",
       "      <td>0.9087</td>\n",
       "      <td>0.8364</td>\n",
       "      <td>0.8023</td>\n",
       "      <td>0.8705</td>\n",
       "    </tr>\n",
       "    <tr>\n",
       "      <th>157</th>\n",
       "      <td>158</td>\n",
       "      <td>0.8944</td>\n",
       "      <td>0.8800</td>\n",
       "      <td>0.9087</td>\n",
       "      <td>0.8359</td>\n",
       "      <td>0.8027</td>\n",
       "      <td>0.8691</td>\n",
       "    </tr>\n",
       "    <tr>\n",
       "      <th>158</th>\n",
       "      <td>159</td>\n",
       "      <td>0.8944</td>\n",
       "      <td>0.8801</td>\n",
       "      <td>0.9087</td>\n",
       "      <td>0.8362</td>\n",
       "      <td>0.8031</td>\n",
       "      <td>0.8693</td>\n",
       "    </tr>\n",
       "    <tr>\n",
       "      <th>159</th>\n",
       "      <td>160</td>\n",
       "      <td>0.8946</td>\n",
       "      <td>0.8804</td>\n",
       "      <td>0.9087</td>\n",
       "      <td>0.8361</td>\n",
       "      <td>0.8025</td>\n",
       "      <td>0.8696</td>\n",
       "    </tr>\n",
       "  </tbody>\n",
       "</table>\n",
       "</div>"
      ],
      "text/plain": [
       "     epoch     mAP    wolf     dog  val_mAP  val_wolf  val_dog\n",
       "150    151  0.8930  0.8776  0.9084   0.8344    0.7998   0.8690\n",
       "151    152  0.8929  0.8773  0.9084   0.8349    0.8005   0.8692\n",
       "152    153  0.8935  0.8782  0.9087   0.8342    0.8010   0.8674\n",
       "153    154  0.8941  0.8794  0.9087   0.8347    0.8011   0.8683\n",
       "154    155  0.8942  0.8797  0.9087   0.8350    0.8017   0.8683\n",
       "155    156  0.8934  0.8781  0.9087   0.8350    0.8017   0.8683\n",
       "156    157  0.8943  0.8799  0.9087   0.8364    0.8023   0.8705\n",
       "157    158  0.8944  0.8800  0.9087   0.8359    0.8027   0.8691\n",
       "158    159  0.8944  0.8801  0.9087   0.8362    0.8031   0.8693\n",
       "159    160  0.8946  0.8804  0.9087   0.8361    0.8025   0.8696"
      ]
     },
     "execution_count": 4,
     "metadata": {},
     "output_type": "execute_result"
    }
   ],
   "source": [
    "results = pd.read_csv('../results.csv')\n",
    "results.tail(10)"
   ]
  },
  {
   "cell_type": "code",
   "execution_count": 9,
   "id": "42580111",
   "metadata": {},
   "outputs": [
    {
     "data": {
      "image/png": "[encoded data removed]",
      "text/plain": [
       "<Figure size 432x288 with 1 Axes>"
      ]
     },
     "metadata": {
      "needs_background": "light"
     },
     "output_type": "display_data"
    }
   ],
   "source": [
    "plt.plot(results.epoch.values[:60], results.mAP.values[:60])\n",
    "plt.show()"
   ]
  },
  {
   "cell_type": "code",
   "execution_count": 10,
   "id": "2af87822",
   "metadata": {},
   "outputs": [
    {
     "data": {
      "image/png": "[encoded data removed]",
      "text/plain": [
       "<Figure size 432x288 with 1 Axes>"
      ]
     },
     "metadata": {
      "needs_background": "light"
     },
     "output_type": "display_data"
    }
   ],
   "source": [
    "plt.plot(results.epoch.values[:60], results.val_mAP.values[:60])\n",
    "plt.show()"
   ]
  },
  {
   "cell_type": "code",
   "execution_count": 14,
   "id": "45a2ce1a",
   "metadata": {},
   "outputs": [
    {
     "data": {
      "text/html": [
       "<div>\n",
       "<style scoped>\n",
       "    .dataframe tbody tr th:only-of-type {\n",
       "        vertical-align: middle;\n",
       "    }\n",
       "\n",
       "    .dataframe tbody tr th {\n",
       "        vertical-align: top;\n",
       "    }\n",
       "\n",
       "    .dataframe thead th {\n",
       "        text-align: right;\n",
       "    }\n",
       "</style>\n",
       "<table border=\"1\" class=\"dataframe\">\n",
       "  <thead>\n",
       "    <tr style=\"text-align: right;\">\n",
       "      <th></th>\n",
       "      <th>epoch</th>\n",
       "      <th>mAP</th>\n",
       "      <th>wolf</th>\n",
       "      <th>dog</th>\n",
       "      <th>val_mAP</th>\n",
       "      <th>val_wolf</th>\n",
       "      <th>val_dog</th>\n",
       "    </tr>\n",
       "  </thead>\n",
       "  <tbody>\n",
       "    <tr>\n",
       "      <th>99</th>\n",
       "      <td>100</td>\n",
       "      <td>0.8877</td>\n",
       "      <td>0.8677</td>\n",
       "      <td>0.9077</td>\n",
       "      <td>0.8243</td>\n",
       "      <td>0.7975</td>\n",
       "      <td>0.8511</td>\n",
       "    </tr>\n",
       "  </tbody>\n",
       "</table>\n",
       "</div>"
      ],
      "text/plain": [
       "    epoch     mAP    wolf     dog  val_mAP  val_wolf  val_dog\n",
       "99    100  0.8877  0.8677  0.9077   0.8243    0.7975   0.8511"
      ]
     },
     "execution_count": 14,
     "metadata": {},
     "output_type": "execute_result"
    }
   ],
   "source": [
    "results[results['epoch']==100]"
   ]
  }
 ],
 "metadata": {
  "kernelspec": {
   "display_name": "Python 3 (ipykernel)",
   "language": "python",
   "name": "python3"
  },
  "language_info": {
   "codemirror_mode": {
    "name": "ipython",
    "version": 3
   },
   "file_extension": ".py",
   "mimetype": "text/x-python",
   "name": "python",
   "nbconvert_exporter": "python",
   "pygments_lexer": "ipython3",
   "version": "3.7.13"
  }
 },
 "nbformat": 4,
 "nbformat_minor": 5
}
