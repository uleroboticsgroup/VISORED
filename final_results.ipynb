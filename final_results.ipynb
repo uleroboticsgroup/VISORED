{
 "cells": [
  {
   "cell_type": "code",
   "execution_count": 1,
   "id": "1d84ce38",
   "metadata": {},
   "outputs": [],
   "source": [
    "import matplotlib.pyplot as plt\n",
    "import pandas as pd\n",
    "import os"
   ]
  },
  {
   "cell_type": "code",
   "execution_count": 2,
   "id": "8769d0fb",
   "metadata": {},
   "outputs": [],
   "source": [
    "data = pd.read_csv(\"results.csv\")\n",
    "data = data.round(4)"
   ]
  },
  {
   "cell_type": "code",
   "execution_count": 3,
   "id": "26f64ea4",
   "metadata": {},
   "outputs": [
    {
     "data": {
      "text/html": [
       "<div>\n",
       "<style scoped>\n",
       "    .dataframe tbody tr th:only-of-type {\n",
       "        vertical-align: middle;\n",
       "    }\n",
       "\n",
       "    .dataframe tbody tr th {\n",
       "        vertical-align: top;\n",
       "    }\n",
       "\n",
       "    .dataframe thead th {\n",
       "        text-align: right;\n",
       "    }\n",
       "</style>\n",
       "<table border=\"1\" class=\"dataframe\">\n",
       "  <thead>\n",
       "    <tr style=\"text-align: right;\">\n",
       "      <th></th>\n",
       "      <th>model</th>\n",
       "      <th>mAP</th>\n",
       "      <th>mAP_COCO</th>\n",
       "      <th>inference</th>\n",
       "      <th>FPS</th>\n",
       "    </tr>\n",
       "  </thead>\n",
       "  <tbody>\n",
       "    <tr>\n",
       "      <th>0</th>\n",
       "      <td>yolov3</td>\n",
       "      <td>0.9949</td>\n",
       "      <td>0.8862</td>\n",
       "      <td>0.0312</td>\n",
       "      <td>32.0075</td>\n",
       "    </tr>\n",
       "    <tr>\n",
       "      <th>1</th>\n",
       "      <td>yolov3-tiny</td>\n",
       "      <td>0.9863</td>\n",
       "      <td>0.7198</td>\n",
       "      <td>0.0156</td>\n",
       "      <td>64.0144</td>\n",
       "    </tr>\n",
       "    <tr>\n",
       "      <th>2</th>\n",
       "      <td>yolov5l</td>\n",
       "      <td>0.9950</td>\n",
       "      <td>0.8757</td>\n",
       "      <td>0.0312</td>\n",
       "      <td>32.0077</td>\n",
       "    </tr>\n",
       "    <tr>\n",
       "      <th>3</th>\n",
       "      <td>yolov5m</td>\n",
       "      <td>0.9949</td>\n",
       "      <td>0.8553</td>\n",
       "      <td>0.0156</td>\n",
       "      <td>64.0172</td>\n",
       "    </tr>\n",
       "    <tr>\n",
       "      <th>4</th>\n",
       "      <td>yolov5n</td>\n",
       "      <td>0.9907</td>\n",
       "      <td>0.7586</td>\n",
       "      <td>0.0156</td>\n",
       "      <td>64.0166</td>\n",
       "    </tr>\n",
       "    <tr>\n",
       "      <th>5</th>\n",
       "      <td>yolov5s</td>\n",
       "      <td>0.9947</td>\n",
       "      <td>0.8278</td>\n",
       "      <td>0.0156</td>\n",
       "      <td>64.0139</td>\n",
       "    </tr>\n",
       "    <tr>\n",
       "      <th>6</th>\n",
       "      <td>yolov5x</td>\n",
       "      <td>0.9950</td>\n",
       "      <td>0.8824</td>\n",
       "      <td>0.0469</td>\n",
       "      <td>21.3386</td>\n",
       "    </tr>\n",
       "  </tbody>\n",
       "</table>\n",
       "</div>"
      ],
      "text/plain": [
       "         model     mAP  mAP_COCO  inference      FPS\n",
       "0       yolov3  0.9949    0.8862     0.0312  32.0075\n",
       "1  yolov3-tiny  0.9863    0.7198     0.0156  64.0144\n",
       "2      yolov5l  0.9950    0.8757     0.0312  32.0077\n",
       "3      yolov5m  0.9949    0.8553     0.0156  64.0172\n",
       "4      yolov5n  0.9907    0.7586     0.0156  64.0166\n",
       "5      yolov5s  0.9947    0.8278     0.0156  64.0139\n",
       "6      yolov5x  0.9950    0.8824     0.0469  21.3386"
      ]
     },
     "execution_count": 3,
     "metadata": {},
     "output_type": "execute_result"
    }
   ],
   "source": [
    "data.head(10)"
   ]
  },
  {
   "cell_type": "code",
   "execution_count": 4,
   "id": "e47eeccc",
   "metadata": {},
   "outputs": [
    {
     "data": {
      "image/png": "[encoded data removed]",
      "text/plain": [
       "<Figure size 432x288 with 1 Axes>"
      ]
     },
     "metadata": {
      "needs_background": "light"
     },
     "output_type": "display_data"
    }
   ],
   "source": [
    "fig, ax = plt.subplots(1,1, figsize=(6,4))\n",
    "plt.rcParams.update({'font.size': 14})\n",
    "\n",
    "for index, row in data.iterrows():\n",
    "    marker = '^' #'^' #'8'\n",
    "    if row['model'].startswith('yolov3'):\n",
    "        marker = '^'\n",
    "    elif row['model'].startswith('yolov5'):\n",
    "        marker= '*'\n",
    "        \n",
    "    ax.scatter(row['FPS'], row['mAP_COCO']*100, label=row['model'], marker=marker, s=150, zorder=1)\n",
    "    \n",
    "ax.set_xlabel('FPS')\n",
    "ax.set_ylabel('mAP')\n",
    "plt.legend()\n",
    "plt.tight_layout()\n",
    "\n",
    "plt.savefig('img_yolo.png', bbox_inches='tight', dpi=600)\n",
    "plt.show()"
   ]
  },
  {
   "cell_type": "code",
   "execution_count": 5,
   "id": "c5836c8b",
   "metadata": {},
   "outputs": [],
   "source": [
    "columns = [\n",
    "    'model', 'precision', 'recall', 'mAP_05', 'mAP_05_095', 'inference', 'FPS'\n",
    "]\n",
    "table = pd.DataFrame(columns = columns)\n",
    "for folder in os.listdir('yolo/yolov5/runs/train'):   \n",
    "    results = pd.read_csv('yolo/yolov5/runs/train/'+folder+'/results.csv')\n",
    "    row = [{\n",
    "        'model': folder,\n",
    "        'precision': float(results.iloc[49].values[4])*100.,\n",
    "        'recall': float(results.iloc[49].values[5])*100.,\n",
    "        'mAP_05': float(results.iloc[49].values[6])*100.,\n",
    "        'mAP_05_095': float(results.iloc[49].values[7])*100.,\n",
    "        'inference': data[data['model']==folder].values[0][3]*100,\n",
    "        'FPS': data[data['model']==folder].values[0][4]\n",
    "    }]\n",
    "    df = pd.DataFrame(row)\n",
    "    table = pd.concat([table, df])\n",
    "table.to_csv('yolo_results.csv', index=False)"
   ]
  },
  {
   "cell_type": "code",
   "execution_count": 6,
   "id": "bb5c239a",
   "metadata": {},
   "outputs": [
    {
     "data": {
      "text/html": [
       "<div>\n",
       "<style scoped>\n",
       "    .dataframe tbody tr th:only-of-type {\n",
       "        vertical-align: middle;\n",
       "    }\n",
       "\n",
       "    .dataframe tbody tr th {\n",
       "        vertical-align: top;\n",
       "    }\n",
       "\n",
       "    .dataframe thead th {\n",
       "        text-align: right;\n",
       "    }\n",
       "</style>\n",
       "<table border=\"1\" class=\"dataframe\">\n",
       "  <thead>\n",
       "    <tr style=\"text-align: right;\">\n",
       "      <th></th>\n",
       "      <th>model</th>\n",
       "      <th>precision</th>\n",
       "      <th>recall</th>\n",
       "      <th>mAP_05</th>\n",
       "      <th>mAP_05_095</th>\n",
       "      <th>inference</th>\n",
       "      <th>FPS</th>\n",
       "    </tr>\n",
       "  </thead>\n",
       "  <tbody>\n",
       "    <tr>\n",
       "      <th>0</th>\n",
       "      <td>yolov3</td>\n",
       "      <td>99.351</td>\n",
       "      <td>99.555</td>\n",
       "      <td>99.489</td>\n",
       "      <td>88.625</td>\n",
       "      <td>3.12</td>\n",
       "      <td>32.0075</td>\n",
       "    </tr>\n",
       "    <tr>\n",
       "      <th>0</th>\n",
       "      <td>yolov3-tiny</td>\n",
       "      <td>94.863</td>\n",
       "      <td>94.971</td>\n",
       "      <td>98.633</td>\n",
       "      <td>71.984</td>\n",
       "      <td>1.56</td>\n",
       "      <td>64.0144</td>\n",
       "    </tr>\n",
       "    <tr>\n",
       "      <th>0</th>\n",
       "      <td>yolov5l</td>\n",
       "      <td>99.47</td>\n",
       "      <td>99.612</td>\n",
       "      <td>99.496</td>\n",
       "      <td>87.571</td>\n",
       "      <td>3.12</td>\n",
       "      <td>32.0077</td>\n",
       "    </tr>\n",
       "    <tr>\n",
       "      <th>0</th>\n",
       "      <td>yolov5m</td>\n",
       "      <td>99.171</td>\n",
       "      <td>99.518</td>\n",
       "      <td>99.486</td>\n",
       "      <td>85.527</td>\n",
       "      <td>1.56</td>\n",
       "      <td>64.0172</td>\n",
       "    </tr>\n",
       "    <tr>\n",
       "      <th>0</th>\n",
       "      <td>yolov5n</td>\n",
       "      <td>95.884</td>\n",
       "      <td>96.134</td>\n",
       "      <td>99.067</td>\n",
       "      <td>75.859</td>\n",
       "      <td>1.56</td>\n",
       "      <td>64.0166</td>\n",
       "    </tr>\n",
       "  </tbody>\n",
       "</table>\n",
       "</div>"
      ],
      "text/plain": [
       "         model precision  recall  mAP_05 mAP_05_095 inference      FPS\n",
       "0       yolov3    99.351  99.555  99.489     88.625      3.12  32.0075\n",
       "0  yolov3-tiny    94.863  94.971  98.633     71.984      1.56  64.0144\n",
       "0      yolov5l     99.47  99.612  99.496     87.571      3.12  32.0077\n",
       "0      yolov5m    99.171  99.518  99.486     85.527      1.56  64.0172\n",
       "0      yolov5n    95.884  96.134  99.067     75.859      1.56  64.0166"
      ]
     },
     "execution_count": 6,
     "metadata": {},
     "output_type": "execute_result"
    }
   ],
   "source": [
    "table.head()"
   ]
  },
  {
   "cell_type": "code",
   "execution_count": 7,
   "id": "eb1cc1e6",
   "metadata": {},
   "outputs": [
    {
     "name": "stderr",
     "output_type": "stream",
     "text": [
      "C:\\Users\\virgi\\AppData\\Local\\Temp\\ipykernel_17664\\168987356.py:2: FutureWarning: In future versions `DataFrame.to_latex` is expected to utilise the base implementation of `Styler.to_latex` for formatting and rendering. The arguments signature may therefore change. It is recommended instead to use `DataFrame.style.to_latex` which also contains additional functionality.\n",
      "  tf.write(table.to_latex())\n"
     ]
    }
   ],
   "source": [
    "with open('results_by_model.tex', 'w') as tf:\n",
    "     tf.write(table.to_latex())"
   ]
  },
  {
   "cell_type": "code",
   "execution_count": null,
   "id": "906c1a1a",
   "metadata": {},
   "outputs": [],
   "source": []
  }
 ],
 "metadata": {
  "kernelspec": {
   "display_name": "Python 3 (ipykernel)",
   "language": "python",
   "name": "python3"
  },
  "language_info": {
   "codemirror_mode": {
    "name": "ipython",
    "version": 3
   },
   "file_extension": ".py",
   "mimetype": "text/x-python",
   "name": "python",
   "nbconvert_exporter": "python",
   "pygments_lexer": "ipython3",
   "version": "3.9.12"
  }
 },
 "nbformat": 4,
 "nbformat_minor": 5
}
