{
 "cells": [
  {
   "cell_type": "code",
   "execution_count": 1,
   "id": "70202220",
   "metadata": {},
   "outputs": [],
   "source": [
    "from pylabel import importer\n",
    "import os\n",
    "import pandas as pd\n",
    "import shutil\n",
    "import numpy as np\n",
    "import cv2"
   ]
  },
  {
   "cell_type": "code",
   "execution_count": 2,
   "id": "18f89272",
   "metadata": {},
   "outputs": [],
   "source": [
    "folder_dataset = 'voc_dataset'"
   ]
  },
  {
   "cell_type": "code",
   "execution_count": 3,
   "id": "8d4c4ebc",
   "metadata": {},
   "outputs": [],
   "source": [
    "for f in [folder_dataset, folder_dataset+'/Annotations', folder_dataset+'/ImageSets', folder_dataset+'/JPEGImages', folder_dataset+'/ImageSets/Main']:\n",
    "    if not os.path.exists(f):\n",
    "        os.makedirs(f)"
   ]
  },
  {
   "cell_type": "code",
   "execution_count": 4,
   "id": "9fa8b1d2",
   "metadata": {},
   "outputs": [],
   "source": [
    "dataset = importer.ImportYoloV5(path='yolo_dataset/labels/train2017/', path_to_images='../../images/train2017/')\n",
    "dataset.df['ann_difficult'] = 0\n",
    "dataset.df['ann_truncated'] = 0\n",
    "dataset.df['cat_name'] = np.where(dataset.df['cat_id']==0, 'Dog', 'Wolf')\n",
    "dataset.df = dataset.df.assign(img_filename = lambda x: (x['img_filename'].str[:-3]+'jpeg'))\n",
    "files = dataset.export.ExportToVoc(folder_dataset+'/Annotations')"
   ]
  },
  {
   "cell_type": "code",
   "execution_count": 5,
   "id": "3b90b4d0",
   "metadata": {},
   "outputs": [],
   "source": [
    "dataset = importer.ImportYoloV5(path='yolo_dataset/labels/val2017/', path_to_images='../../images/val2017/')\n",
    "dataset.df['ann_difficult'] = 0\n",
    "dataset.df['ann_truncated'] = 0\n",
    "dataset.df['cat_name'] = np.where(dataset.df['cat_id']==0, 'Dog', 'Wolf')\n",
    "dataset.df = dataset.df.assign(img_filename = lambda x: (x['img_filename'].str[:-3]+'jpeg'))\n",
    "files = dataset.export.ExportToVoc(folder_dataset+'/Annotations')"
   ]
  },
  {
   "cell_type": "code",
   "execution_count": 14,
   "id": "7ceddf40",
   "metadata": {},
   "outputs": [],
   "source": [
    "#https://www.codetd.com/en/article/12698704"
   ]
  },
  {
   "cell_type": "code",
   "execution_count": 15,
   "id": "4b908b99",
   "metadata": {},
   "outputs": [],
   "source": [
    "open(folder_dataset+'/ImageSets/Main/train.txt', 'w').close()\n",
    "open(folder_dataset+'/ImageSets/Main/val.txt', 'w').close()"
   ]
  },
  {
   "cell_type": "code",
   "execution_count": 18,
   "id": "db5b94f6",
   "metadata": {},
   "outputs": [],
   "source": [
    "for folder, name in zip(['val', 'train'], ['europe', 'world']):\n",
    "    for type_name, id_category in zip(['','_dog'], [1,2]):\n",
    "        dataset = pd.read_csv('dataset'+type_name+'_'+name+'.csv')\n",
    "        f = open(folder_dataset+'/ImageSets/Main/'+folder+'.txt', 'a')\n",
    "        for index, row in dataset.iterrows():\n",
    "            f.write(str(id_category)+'_'+str(int(row.id))+'\\n')\n",
    "            img = cv2.imread(name+type_name+'/'+str(int(row.id))+\".png\")\n",
    "            cv2.imwrite(folder_dataset+'/JPEGImages/'+str(id_category)+'_'+str(int(row.id))+\".jpeg\", img)\n",
    "            #shutil.copy(name+type_name+'/'+str(int(row.id))+\".png\", folder_dataset+'/JPEGImages/'+str(id_category)+'_'+str(int(row.id))+\".png\")\n",
    "        f.close()"
   ]
  },
  {
   "cell_type": "code",
   "execution_count": null,
   "id": "26e7cc4f",
   "metadata": {},
   "outputs": [],
   "source": []
  }
 ],
 "metadata": {
  "kernelspec": {
   "display_name": "Python 3 (ipykernel)",
   "language": "python",
   "name": "python3"
  },
  "language_info": {
   "codemirror_mode": {
    "name": "ipython",
    "version": 3
   },
   "file_extension": ".py",
   "mimetype": "text/x-python",
   "name": "python",
   "nbconvert_exporter": "python",
   "pygments_lexer": "ipython3",
   "version": "3.9.12"
  }
 },
 "nbformat": 4,
 "nbformat_minor": 5
}
