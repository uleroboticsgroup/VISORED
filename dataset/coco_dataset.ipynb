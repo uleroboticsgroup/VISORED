{
 "cells": [
  {
   "cell_type": "code",
   "execution_count": 1,
   "id": "3a1d479e",
   "metadata": {},
   "outputs": [],
   "source": [
    "import pandas as pd\n",
    "import numpy as np\n",
    "import os\n",
    "import json\n",
    "import shutil"
   ]
  },
  {
   "cell_type": "code",
   "execution_count": 2,
   "id": "7db02071",
   "metadata": {},
   "outputs": [],
   "source": [
    "folder_dataset = 'dataset'"
   ]
  },
  {
   "cell_type": "code",
   "execution_count": 3,
   "id": "4066484b",
   "metadata": {},
   "outputs": [],
   "source": [
    "for f in [folder_dataset, folder_dataset+'/annotations', folder_dataset+'/train2017', folder_dataset+'/val2017']:\n",
    "    if not os.path.exists(f):\n",
    "        os.makedirs(f)"
   ]
  },
  {
   "cell_type": "code",
   "execution_count": 4,
   "id": "4043594e",
   "metadata": {},
   "outputs": [],
   "source": [
    "for folder, name in zip(['val', 'train'], ['europe', 'world']):\n",
    "    data = {\n",
    "        'info' : 'Iberian Wolf Dataset',\n",
    "        \"licenses\": [\n",
    "            {\"url\": \"http://creativecommons.org/licenses/by/2.0/\",\"id\": 4,\"name\": \"Attribution License\"}\n",
    "        ],\n",
    "        'images': [],\n",
    "        'annotations': [],\n",
    "        'categories': [\n",
    "            {'supercategory': 'N/A', 'id':0, 'name': 'N/A'},\n",
    "            {'supercategory': 'animal', 'id':1, 'name': 'wolf'},\n",
    "            {'supercategory': 'animal', 'id':2, 'name': 'dog'}\n",
    "        ]   \n",
    "    }\n",
    "\n",
    "    annotation = 0\n",
    "    for type_name, id_category in zip(['','_dog'], [1,2]):\n",
    "        dataset = pd.read_csv('dataset'+type_name+'_'+name+'.csv')\n",
    "        for index, row in dataset.iterrows():\n",
    "            info_row = {\n",
    "                'id' : (int(row.id)),\n",
    "                'url' : row.url,\n",
    "                \"width\": row.width, \n",
    "                \"height\": row.height, \n",
    "                \"file_name\": str(id_category)+'_'+str(int(row.id))+\".png\"\n",
    "            }\n",
    "            data['images'].append(info_row)\n",
    "            detections = np.array(row.detections.split(' ')).astype(np.int32)\n",
    "            for i in range(int(row.wolves)):\n",
    "                bbox = detections[i*4:(i+1)*4]\n",
    "                point0 = bbox[:2]\n",
    "                point1 = bbox[2:]\n",
    "                point = point0 if point0[0]<point1[0] else point1\n",
    "                dims = [abs(point0[0]-point1[0]), abs(point0[1]-point1[1])]\n",
    "                info_annot = {\n",
    "                    'id' : annotation,\n",
    "                    \"category_id\": id_category, \n",
    "                    \"iscrowd\": 0, \n",
    "                    \"image_id\": (int(row.id)),\n",
    "                    'bbox' : np.concatenate((point, dims), axis=None).tolist(),\n",
    "                    \"area\" : float(dims[0] * dims[1])\n",
    "                }\n",
    "                annotation =+1\n",
    "                data['annotations'].append(info_annot)\n",
    "            shutil.copy(name+type_name+'/'+str(int(row.id))+\".png\", folder_dataset+'/'+folder+'2017'+'/'+str(id_category)+'_'+str(int(row.id))+\".png\")\n",
    "    with open(folder_dataset+'/annotations/instances_'+folder+'2017.json', 'w', encoding='utf-8') as f:\n",
    "        json.dump(data, f, ensure_ascii=False, indent=4)"
   ]
  },
  {
   "cell_type": "code",
   "execution_count": null,
   "id": "16c9b36f",
   "metadata": {},
   "outputs": [],
   "source": []
  }
 ],
 "metadata": {
  "kernelspec": {
   "display_name": "Python 3 (ipykernel)",
   "language": "python",
   "name": "python3"
  },
  "language_info": {
   "codemirror_mode": {
    "name": "ipython",
    "version": 3
   },
   "file_extension": ".py",
   "mimetype": "text/x-python",
   "name": "python",
   "nbconvert_exporter": "python",
   "pygments_lexer": "ipython3",
   "version": "3.9.12"
  }
 },
 "nbformat": 4,
 "nbformat_minor": 5
}
