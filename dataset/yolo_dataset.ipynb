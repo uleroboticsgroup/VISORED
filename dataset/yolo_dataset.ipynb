{
 "cells": [
  {
   "cell_type": "code",
   "execution_count": 3,
   "id": "3a1d479e",
   "metadata": {},
   "outputs": [],
   "source": [
    "import pandas as pd\n",
    "import numpy as np\n",
    "import os\n",
    "import json\n",
    "import shutil\n",
    "import cv2"
   ]
  },
  {
   "cell_type": "code",
   "execution_count": 4,
   "id": "7db02071",
   "metadata": {},
   "outputs": [],
   "source": [
    "folder_dataset = 'yolo_dataset'"
   ]
  },
  {
   "cell_type": "code",
   "execution_count": 5,
   "id": "4066484b",
   "metadata": {},
   "outputs": [],
   "source": [
    "for f in [folder_dataset, folder_dataset+'/images', folder_dataset+'/images/train2017', folder_dataset+'/images/val2017', folder_dataset+'/labels/train2017', folder_dataset+'/labels/val2017']:\n",
    "    if not os.path.exists(f):\n",
    "        os.makedirs(f)"
   ]
  },
  {
   "cell_type": "code",
   "execution_count": 4,
   "id": "4043594e",
   "metadata": {},
   "outputs": [],
   "source": [
    "for folder, name in zip(['val', 'train'], ['europe', 'world']):\n",
    "    for type_name, id_category in zip(['','_dog'], [1,2]):\n",
    "        dataset = pd.read_csv('dataset'+type_name+'_'+name+'.csv')\n",
    "        for index, row in dataset.iterrows():\n",
    "            img = cv2.imread(name+type_name+'/'+str(int(row.id))+\".png\") \n",
    "            height, width, _ = img.shape\n",
    "            file = open(folder_dataset+'/labels/'+folder+'2017'+'/'+str(id_category)+'_'+str(int(row.id))+\".txt\",'w')\n",
    "            detections = np.array(row.detections.split(' ')).astype(np.int32)\n",
    "            for i in range(int(row.wolves)):\n",
    "                bbox = detections[i*4:(i+1)*4]\n",
    "                point0 = bbox[:2]\n",
    "                point1 = bbox[2:]\n",
    "                point = [(point0[0]+point1[0])/2, (point0[1]+point1[1])/2]\n",
    "                dims = [abs(point0[0]-point1[0]), abs(point0[1]-point1[1])]\n",
    "                data = [(id_category-1), point[0]/width, point[1]/height, dims[0]/width, dims[1]/height]\n",
    "                if data[1]>1 or data[2]>1:\n",
    "                    print(str(id_category)+'_'+str(int(row.id)), 'W',width, 'H', height, bbox, 'P',point, 'D',dims)\n",
    "                    print(data)\n",
    "                data = [str(x) for x in data]\n",
    "                file.write(' '.join(data)+'\\n')\n",
    "            file.close()\n",
    "            shutil.copy(name+type_name+'/'+str(int(row.id))+\".png\", folder_dataset+'/images/'+folder+'2017'+'/'+str(id_category)+'_'+str(int(row.id))+\".png\")"
   ]
  },
  {
   "cell_type": "code",
   "execution_count": null,
   "id": "16c9b36f",
   "metadata": {},
   "outputs": [],
   "source": []
  }
 ],
 "metadata": {
  "kernelspec": {
   "display_name": "Python 3 (ipykernel)",
   "language": "python",
   "name": "python3"
  },
  "language_info": {
   "codemirror_mode": {
    "name": "ipython",
    "version": 3
   },
   "file_extension": ".py",
   "mimetype": "text/x-python",
   "name": "python",
   "nbconvert_exporter": "python",
   "pygments_lexer": "ipython3",
   "version": "3.9.12"
  }
 },
 "nbformat": 4,
 "nbformat_minor": 5
}
